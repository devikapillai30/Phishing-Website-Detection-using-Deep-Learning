{
  "cells": [
    {
      "cell_type": "code",
      "execution_count": null,
      "metadata": {
        "id": "eJkEa2gnYygE"
      },
      "outputs": [],
      "source": [
        "import pandas as pd\n",
        "import seaborn as sns\n",
        "import numpy as np\n",
        "from urllib.parse import urlparse\n",
        "import keras\n",
        "from keras.models import Sequential\n",
        "from keras.layers import Dense\n",
        "from keras.layers import Embedding, LSTM, Bidirectional\n",
        "import re\n",
        "import ipaddress\n",
        "from bs4 import BeautifulSoup\n",
        "import requests\n",
        "from keras import callbacks\n",
        "from sklearn.model_selection import train_test_split\n",
        "from tensorflow.keras.models import load_model\n",
        "import warnings\n",
        "warnings.filterwarnings('ignore')\n",
        "from flask import Flask, render_template, request"
      ]
    },
    {
      "cell_type": "code",
      "execution_count": null,
      "metadata": {
        "colab": {
          "base_uri": "https://localhost:8080/"
        },
        "id": "PC3xomDZZE23",
        "outputId": "868d30ee-55be-448d-f84a-9fa5a1036750"
      },
      "outputs": [
        {
          "name": "stdout",
          "output_type": "stream",
          "text": [
            "Requirement already satisfied: flask-ngrok in /usr/local/lib/python3.7/dist-packages (0.0.25)\n",
            "Requirement already satisfied: Flask>=0.8 in /usr/local/lib/python3.7/dist-packages (from flask-ngrok) (1.1.4)\n",
            "Requirement already satisfied: requests in /usr/local/lib/python3.7/dist-packages (from flask-ngrok) (2.23.0)\n",
            "Requirement already satisfied: click<8.0,>=5.1 in /usr/local/lib/python3.7/dist-packages (from Flask>=0.8->flask-ngrok) (7.1.2)\n",
            "Requirement already satisfied: Werkzeug<2.0,>=0.15 in /usr/local/lib/python3.7/dist-packages (from Flask>=0.8->flask-ngrok) (1.0.1)\n",
            "Requirement already satisfied: itsdangerous<2.0,>=0.24 in /usr/local/lib/python3.7/dist-packages (from Flask>=0.8->flask-ngrok) (1.1.0)\n",
            "Requirement already satisfied: Jinja2<3.0,>=2.10.1 in /usr/local/lib/python3.7/dist-packages (from Flask>=0.8->flask-ngrok) (2.11.3)\n",
            "Requirement already satisfied: MarkupSafe>=0.23 in /usr/local/lib/python3.7/dist-packages (from Jinja2<3.0,>=2.10.1->Flask>=0.8->flask-ngrok) (2.0.1)\n",
            "Requirement already satisfied: urllib3!=1.25.0,!=1.25.1,<1.26,>=1.21.1 in /usr/local/lib/python3.7/dist-packages (from requests->flask-ngrok) (1.24.3)\n",
            "Requirement already satisfied: idna<3,>=2.5 in /usr/local/lib/python3.7/dist-packages (from requests->flask-ngrok) (2.10)\n",
            "Requirement already satisfied: chardet<4,>=3.0.2 in /usr/local/lib/python3.7/dist-packages (from requests->flask-ngrok) (3.0.4)\n",
            "Requirement already satisfied: certifi>=2017.4.17 in /usr/local/lib/python3.7/dist-packages (from requests->flask-ngrok) (2021.10.8)\n"
          ]
        }
      ],
      "source": [
        "!pip install flask-ngrok"
      ]
    },
    {
      "cell_type": "code",
      "execution_count": null,
      "metadata": {
        "colab": {
          "base_uri": "https://localhost:8080/"
        },
        "id": "AlGNmi7IYIG4",
        "outputId": "d26304bd-3a49-4de1-b40b-99a8e14f663f"
      },
      "outputs": [
        {
          "name": "stdout",
          "output_type": "stream",
          "text": [
            "Requirement already satisfied: pyngrok in /usr/local/lib/python3.7/dist-packages (5.1.0)\n",
            "Requirement already satisfied: PyYAML in /usr/local/lib/python3.7/dist-packages (from pyngrok) (3.13)\n"
          ]
        }
      ],
      "source": [
        "!pip install pyngrok"
      ]
    },
    {
      "cell_type": "code",
      "execution_count": null,
      "metadata": {
        "id": "zOqJnrl0YKm6"
      },
      "outputs": [],
      "source": [
        "from flask_ngrok import run_with_ngrok"
      ]
    },
    {
      "cell_type": "code",
      "execution_count": null,
      "metadata": {
        "colab": {
          "base_uri": "https://localhost:8080/"
        },
        "id": "0dVDkXDSYM4A",
        "outputId": "2dddfd4d-ff9b-4aed-cc91-0a9d5756429e"
      },
      "outputs": [
        {
          "name": "stdout",
          "output_type": "stream",
          "text": [
            "Authtoken saved to configuration file: /root/.ngrok2/ngrok.yml\n"
          ]
        }
      ],
      "source": [
        "!ngrok authtoken 25JUqEfhazUjfb9CbxQTTgctkOz_5pMh1LJVPBWx3uxv7zWbq"
      ]
    },
    {
      "cell_type": "code",
      "execution_count": null,
      "metadata": {
        "id": "0Zr5rYeaZdZ3"
      },
      "outputs": [],
      "source": [
        "import ipaddress"
      ]
    },
    {
      "cell_type": "code",
      "execution_count": null,
      "metadata": {
        "id": "tKnjsc4YZUqA"
      },
      "outputs": [],
      "source": [
        "def generate_data_set(url):\n",
        "  data_set = []\n",
        "\n",
        "  try:\n",
        "    ipaddress.ip_address(url)\n",
        "    data_set.append(1)\n",
        "  except:\n",
        "    data_set.append(0)\n",
        "\n",
        "  if \"@\" in url:\n",
        "    data_set.append(1)\n",
        "  else:\n",
        "    data_set.append(0)\n",
        "\n",
        "  if len(url) < 54:\n",
        "    data_set.append(0)\n",
        "  else:\n",
        "    data_set.append(1)\n",
        "\n",
        "  protocol = urlparse(url)\n",
        "  if protocol.scheme == 'https':\n",
        "    data_set.append(1)\n",
        "  else:\n",
        "    data_set.append(0)\n",
        "\n",
        "  s = urlparse(url).path.split('/')\n",
        "  depth = 0\n",
        "  for j in range(len(s)):\n",
        "    if len(s[j]) != 0:\n",
        "      depth = depth+1\n",
        "  data_set.append(depth)\n",
        "\n",
        "  pos = url.rfind('//')\n",
        "  if pos > 6:\n",
        "    if pos > 7:\n",
        "      data_set.append(1)\n",
        "    else:\n",
        "      data_set.append(0)\n",
        "  else:\n",
        "    data_set.append(0)\n",
        "\n",
        "  if '-' in urlparse(url).netloc:\n",
        "    data_set.append(1)\n",
        "  else:\n",
        "    data_set.append(0)\n",
        "\n",
        "\n",
        "  shortening_services = r\"bit\\.ly|goo\\.gl|shorte\\.st|go2l\\.ink|x\\.co|ow\\.ly|t\\.co|tinyurl|tr\\.im|is\\.gd|cli\\.gs|\" \\\n",
        "                        r\"yfrog\\.com|migre\\.me|ff\\.im|tiny\\.cc|url4\\.eu|twit\\.ac|su\\.pr|twurl\\.nl|snipurl\\.com|\" \\\n",
        "                        r\"short\\.to|BudURL\\.com|ping\\.fm|post\\.ly|Just\\.as|bkite\\.com|snipr\\.com|fic\\.kr|loopt\\.us|\" \\\n",
        "                        r\"doiop\\.com|short\\.ie|kl\\.am|wp\\.me|rubyurl\\.com|om\\.ly|to\\.ly|bit\\.do|t\\.co|lnkd\\.in|db\\.tt|\" \\\n",
        "                        r\"qr\\.ae|adf\\.ly|goo\\.gl|bitly\\.com|cur\\.lv|tinyurl\\.com|ow\\.ly|bit\\.ly|ity\\.im|q\\.gs|is\\.gd|\" \\\n",
        "                        r\"po\\.st|bc\\.vc|twitthis\\.com|u\\.to|j\\.mp|buzurl\\.com|cutt\\.us|u\\.bb|yourls\\.org|x\\.co|\" \\\n",
        "                        r\"prettylinkpro\\.com|scrnch\\.me|filoops\\.info|vzturl\\.com|qr\\.net|1url\\.com|tweez\\.me|v\\.gd|\" \\\n",
        "                        r\"tr\\.im|link\\.zip\\.net\"\n",
        "\n",
        "  match=re.search(shortening_services,url)\n",
        "  if match:\n",
        "    data_set.append(1)\n",
        "  else:\n",
        "    data_set.append(0)\n",
        "\n",
        "  return data_set\n"
      ]
    },
    {
      "cell_type": "code",
      "execution_count": null,
      "metadata": {
        "colab": {
          "base_uri": "https://localhost:8080/"
        },
        "id": "CKmpAMDxpCsH",
        "outputId": "eaf1a08d-b2c5-4d3b-ad72-071e5a82e7d7"
      },
      "outputs": [
        {
          "name": "stdout",
          "output_type": "stream",
          "text": [
            " * Serving Flask app \"__main__\" (lazy loading)\n",
            " * Environment: production\n",
            "\u001b[31m   WARNING: This is a development server. Do not use it in a production deployment.\u001b[0m\n",
            "\u001b[2m   Use a production WSGI server instead.\u001b[0m\n",
            " * Debug mode: off\n"
          ]
        },
        {
          "name": "stderr",
          "output_type": "stream",
          "text": [
            " * Running on http://127.0.0.1:5000/ (Press CTRL+C to quit)\n"
          ]
        },
        {
          "name": "stdout",
          "output_type": "stream",
          "text": [
            " * Running on http://df0d-35-236-231-51.ngrok.io\n",
            " * Traffic stats available on http://127.0.0.1:4040\n"
          ]
        },
        {
          "name": "stderr",
          "output_type": "stream",
          "text": [
            "127.0.0.1 - - [26/Mar/2022 05:27:35] \"\u001b[37mGET / HTTP/1.1\u001b[0m\" 200 -\n",
            "127.0.0.1 - - [26/Mar/2022 05:27:37] \"\u001b[33mGET /favicon.ico HTTP/1.1\u001b[0m\" 404 -\n"
          ]
        },
        {
          "name": "stdout",
          "output_type": "stream",
          "text": [
            "[[0 0 0 1 0 0 0 0]]\n",
            "<class 'numpy.ndarray'>\n"
          ]
        },
        {
          "name": "stderr",
          "output_type": "stream",
          "text": [
            "127.0.0.1 - - [26/Mar/2022 05:27:41] \"\u001b[37mPOST /predict HTTP/1.1\u001b[0m\" 200 -\n"
          ]
        },
        {
          "name": "stdout",
          "output_type": "stream",
          "text": [
            "[4.6858634e-07]\n"
          ]
        }
      ],
      "source": [
        "#Legitimate\n",
        "app = Flask(__name__, template_folder='/content/templates')\n",
        "run_with_ngrok(app)\n",
        "\n",
        "model =load_model(\"model_bidi (1).h5\")\n",
        "\n",
        "@app.route(\"/\", methods=['GET', 'POST'])\n",
        "def index():\n",
        "    return render_template(\"index1.html\", xx=-1)\n",
        "\n",
        "\n",
        "@app.route(\"/predict\", methods=[\"GET\", \"POST\"])\n",
        "def predict():\n",
        "    if request.method == \"POST\":\n",
        "        url = request.form[\"url\"]\n",
        "        x = generate_data_set(url)\n",
        "        x = np.array(x).reshape(1,8)\n",
        "        #x = np.array(generate_data_set(url)).reshape(1,8)\n",
        "        print(x)\n",
        "        print(type(x))\n",
        "        y_pred = (model.predict(x))[0]\n",
        "        print(y_pred)\n",
        "\n",
        "        # y_pro_phishing = model.predict_proba(x)[0,0]\n",
        "        # y_pro_non_phishing = model.predict_proba(x)[0,1]\n",
        "        y_pro_phishing = x[0, 0]\n",
        "        y_pro_non_phishing = x[0, 1]\n",
        "        if y_pred > 0.5:\n",
        "            pred = y_pro_phishing * 100\n",
        "            return render_template('index1.html', prediction_text='It is {0:.2f} % safe to go'.format(pred))\n",
        "        else:\n",
        "            pred = y_pro_non_phishing * 100\n",
        "            return render_template('index1.html', prediction_text='It is {0:.2f} % unsafe to go '.format(pred))\n",
        "    return render_template(\"index1.html\", xx=-1)\n",
        "\n",
        "\n",
        "if __name__ == \"__main__\":\n",
        "  app.run()"
      ]
    },
    {
      "cell_type": "code",
      "execution_count": null,
      "metadata": {
        "colab": {
          "background_save": true,
          "base_uri": "https://localhost:8080/"
        },
        "id": "yRN3QHuxX-7f",
        "outputId": "396ed3c7-0e8f-455b-f795-e067ad3bdf24"
      },
      "outputs": [
        {
          "name": "stdout",
          "output_type": "stream",
          "text": [
            " * Serving Flask app \"__main__\" (lazy loading)\n",
            " * Environment: production\n",
            "\u001b[31m   WARNING: This is a development server. Do not use it in a production deployment.\u001b[0m\n",
            "\u001b[2m   Use a production WSGI server instead.\u001b[0m\n",
            " * Debug mode: off\n"
          ]
        },
        {
          "name": "stderr",
          "output_type": "stream",
          "text": [
            " * Running on http://127.0.0.1:5000/ (Press CTRL+C to quit)\n"
          ]
        },
        {
          "name": "stdout",
          "output_type": "stream",
          "text": [
            " * Running on http://2350-35-236-231-51.ngrok.io\n",
            " * Traffic stats available on http://127.0.0.1:4040\n"
          ]
        },
        {
          "name": "stderr",
          "output_type": "stream",
          "text": [
            "127.0.0.1 - - [26/Mar/2022 05:28:03] \"\u001b[37mGET / HTTP/1.1\u001b[0m\" 200 -\n",
            "127.0.0.1 - - [26/Mar/2022 05:28:04] \"\u001b[33mGET /favicon.ico HTTP/1.1\u001b[0m\" 404 -\n"
          ]
        },
        {
          "name": "stdout",
          "output_type": "stream",
          "text": [
            "[[0 0 1 1 3 0 0 0]]\n",
            "<class 'numpy.ndarray'>\n"
          ]
        },
        {
          "name": "stderr",
          "output_type": "stream",
          "text": [
            "127.0.0.1 - - [26/Mar/2022 05:28:15] \"\u001b[37mPOST /predict HTTP/1.1\u001b[0m\" 200 -\n"
          ]
        },
        {
          "name": "stdout",
          "output_type": "stream",
          "text": [
            "[0.02856791]\n"
          ]
        }
      ],
      "source": [
        "#Phishing\n",
        "app = Flask(__name__, template_folder='/content/templates')\n",
        "run_with_ngrok(app)\n",
        "\n",
        "model =load_model(\"model_bidi (1).h5\")\n",
        "\n",
        "@app.route(\"/\", methods=['GET', 'POST'])\n",
        "def index():\n",
        "    return render_template(\"index.html\", xx=-1)\n",
        "\n",
        "\n",
        "@app.route(\"/predict\", methods=[\"GET\", \"POST\"])\n",
        "def predict():\n",
        "    if request.method == \"POST\":\n",
        "        url = request.form[\"url\"]\n",
        "        x = generate_data_set(url)\n",
        "        x = np.array(x).reshape(1,8)\n",
        "        #x = np.array(generate_data_set(url)).reshape(1,8)\n",
        "        print(x)\n",
        "        print(type(x))\n",
        "        y_pred = (model.predict(x))[0]\n",
        "        print(y_pred)\n",
        "\n",
        "        # y_pro_phishing = model.predict_proba(x)[0,0]\n",
        "        # y_pro_non_phishing = model.predict_proba(x)[0,1]\n",
        "        y_pro_phishing = x[0, 0]\n",
        "        y_pro_non_phishing = x[0, 1]\n",
        "        if y_pred > 0.5:\n",
        "            pred = y_pro_phishing * 100\n",
        "            return render_template('index.html', prediction_text='It is {0:.2f} % safe to go'.format(pred))\n",
        "        else:\n",
        "            pred = y_pro_non_phishing * 100\n",
        "            return render_template('index.html', prediction_text='It is {0:.2f} % unsafe to go '.format(pred))\n",
        "    return render_template(\"index.html\", xx=-1)\n",
        "\n",
        "\n",
        "if __name__ == \"__main__\":\n",
        "  app.run()"
      ]
    },
    {
      "cell_type": "code",
      "execution_count": null,
      "metadata": {
        "id": "Et115qg4z2l9"
      },
      "outputs": [],
      "source": []
    }
  ],
  "metadata": {
    "colab": {
      "provenance": []
    },
    "kernelspec": {
      "display_name": "Python 3",
      "name": "python3"
    },
    "language_info": {
      "name": "python"
    }
  },
  "nbformat": 4,
  "nbformat_minor": 0
}